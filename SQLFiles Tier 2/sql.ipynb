{
 "cells": [
  {
   "cell_type": "code",
   "execution_count": 9,
   "metadata": {},
   "outputs": [],
   "source": [
    "import sqlite3\n",
    "from sqlite3 import Error"
   ]
  },
  {
   "cell_type": "code",
   "execution_count": 13,
   "metadata": {},
   "outputs": [],
   "source": [
    "def create_connection(db_file):\n",
    "    \"\"\" create a database connection to the SQLite database\n",
    "        specified by the db_file\n",
    "    :param db_file: database file\n",
    "    :return: Connection object or None\n",
    "    \"\"\"\n",
    "    conn = None\n",
    "    try:\n",
    "        conn = sqlite3.connect(db_file)\n",
    "        print(sqlite3.version)\n",
    "    except Error as e:\n",
    "        print(e)\n",
    " \n",
    "    return conn"
   ]
  },
  {
   "cell_type": "code",
   "execution_count": 14,
   "metadata": {},
   "outputs": [],
   "source": [
    "\n",
    "\n",
    "\n",
    " \n",
    "rows = cur.fetchall()\n"
   ]
  },
  {
   "cell_type": "code",
   "execution_count": 19,
   "metadata": {},
   "outputs": [
    {
     "name": "stdout",
     "output_type": "stream",
     "text": [
      "2.6.0\n"
     ]
    }
   ],
   "source": [
    "\n",
    "database = \"./sqlite_db_pythonsqlite.db\"\n",
    " \n",
    "# create a database connection\n",
    "conn = create_connection(database)\n",
    "cur = conn.cursor()\n"
   ]
  },
  {
   "cell_type": "code",
   "execution_count": 29,
   "metadata": {},
   "outputs": [
    {
     "data": {
      "text/plain": [
       "[('Badminton Court', -2243.5),\n",
       " ('Table Tennis', -170),\n",
       " ('Snooker Table', -255),\n",
       " ('Pool Table', -175)]"
      ]
     },
     "execution_count": 29,
     "metadata": {},
     "output_type": "execute_result"
    }
   ],
   "source": [
    "#/* Q10: Produce a list of facilities with a total revenue less than 1000. \n",
    "# The output of facility name and total revenue, sorted by revenue. Remember that there's a different cost for guests and members! */\n",
    "# SELECT count(*), DATE_FORMAT(starttime, '%Y-%m') AS formated_date from `Bookings` group by formated_date\n",
    "\n",
    "query1 = \"\"\"\n",
    "SELECT f.name,\n",
    "\n",
    "    sum( case when b.memid=0 then slots*f.guestcost\n",
    "    else slots*f.membercost\n",
    "    end)-f.initialoutlay-monthlymaintenance*3 as revenue \n",
    "\n",
    "    FROM `Bookings` as b\n",
    "    left join `Facilities` as f on b.facid=f.facid\n",
    "\tgroup by b.facid\n",
    "    having revenue<1000\n",
    "\n",
    "    \"\"\"\n",
    "\n",
    "\n",
    "cur.execute(query1)\n",
    "rows = cur.fetchall()\n",
    "rows\n"
   ]
  },
  {
   "cell_type": "code",
   "execution_count": 41,
   "metadata": {},
   "outputs": [
    {
     "data": {
      "text/plain": [
       "[('Bader', 'Florence', 'Stibbons Ponder'),\n",
       " ('Baker', 'Anne', 'Stibbons Ponder'),\n",
       " ('Baker', 'Timothy', 'Farrell Jemima'),\n",
       " ('Boothe', 'Tim', 'Rownam Tim'),\n",
       " ('Butters', 'Gerald', 'Smith Darren'),\n",
       " ('Coplin', 'Joan', 'Baker Timothy'),\n",
       " ('Crumpet', 'Erica', 'Smith Tracy'),\n",
       " ('Dare', 'Nancy', 'Joplette Janice'),\n",
       " ('Genting', 'Matthew', 'Butters Gerald'),\n",
       " ('Hunt', 'John', 'Purview Millicent'),\n",
       " ('Jones', 'David', 'Joplette Janice'),\n",
       " ('Jones', 'Douglas', 'Jones David'),\n",
       " ('Joplette', 'Janice', 'Smith Darren'),\n",
       " ('Mackenzie', 'Anna', 'Smith Darren'),\n",
       " ('Owen', 'Charles', 'Smith Darren'),\n",
       " ('Pinker', 'David', 'Farrell Jemima'),\n",
       " ('Purview', 'Millicent', 'Smith Tracy'),\n",
       " ('Rumney', 'Henrietta', 'Genting Matthew'),\n",
       " ('Sarwin', 'Ramnaresh', 'Bader Florence'),\n",
       " ('Smith', 'Jack', 'Smith Darren'),\n",
       " ('Stibbons', 'Ponder', 'Tracy Burton'),\n",
       " ('Worthington-Smyth', 'Henry', 'Smith Tracy')]"
      ]
     },
     "execution_count": 41,
     "metadata": {},
     "output_type": "execute_result"
    }
   ],
   "source": [
    "# /* Q11: Produce a report of members and who recommended them in alphabetic surname,firstname order */\n",
    "query11='''\n",
    "SELECT a.surname, a.firstname, b.surname || ' ' || b.firstname as recommendedby\n",
    "\n",
    "FROM ( select * from Members where recommendedby >=1 ) as a\n",
    "\n",
    "inner join Members as b on a.recommendedby = b.memid\n",
    "order by 1,2\n",
    "'''\n",
    "\n",
    "cur.execute(query11)\n",
    "rows=cur.fetchall()\n",
    "rows"
   ]
  },
  {
   "cell_type": "code",
   "execution_count": 42,
   "metadata": {},
   "outputs": [
    {
     "data": {
      "text/plain": [
       "[('Tennis Court 1', 308),\n",
       " ('Tennis Court 2', 276),\n",
       " ('Badminton Court', 344),\n",
       " ('Table Tennis', 385),\n",
       " ('Massage Room 1', 421),\n",
       " ('Massage Room 2', 27),\n",
       " ('Squash Court', 195),\n",
       " ('Snooker Table', 421),\n",
       " ('Pool Table', 783)]"
      ]
     },
     "execution_count": 42,
     "metadata": {},
     "output_type": "execute_result"
    }
   ],
   "source": [
    "# /* Q12: Find the facilities with their usage by member, but not guests */\n",
    "query12='''\n",
    "SELECT f.name,count(*) FROM `Bookings` as b, `Facilities` as f\n",
    "WHERE memid!=0 and b.facid=f.facid\n",
    "group by b.facid\n",
    "'''\n",
    "cur.execute(query12)\n",
    "rows=cur.fetchall()\n",
    "rows"
   ]
  },
  {
   "cell_type": "code",
   "execution_count": 45,
   "metadata": {},
   "outputs": [
    {
     "data": {
      "text/plain": [
       "[(0, '07', 65),\n",
       " (0, '08', 111),\n",
       " (0, '09', 132),\n",
       " (1, '07', 41),\n",
       " (1, '08', 109),\n",
       " (1, '09', 126),\n",
       " (2, '07', 51),\n",
       " (2, '08', 132),\n",
       " (2, '09', 161),\n",
       " (3, '07', 48),\n",
       " (3, '08', 143),\n",
       " (3, '09', 194),\n",
       " (4, '07', 77),\n",
       " (4, '08', 153),\n",
       " (4, '09', 191),\n",
       " (5, '07', 4),\n",
       " (5, '08', 9),\n",
       " (5, '09', 14),\n",
       " (6, '07', 23),\n",
       " (6, '08', 85),\n",
       " (6, '09', 87),\n",
       " (7, '07', 68),\n",
       " (7, '08', 154),\n",
       " (7, '09', 199),\n",
       " (8, '07', 103),\n",
       " (8, '08', 272),\n",
       " (8, '09', 408)]"
      ]
     },
     "execution_count": 45,
     "metadata": {},
     "output_type": "execute_result"
    }
   ],
   "source": [
    "# /* Q13: Find the facilities usage by month, but not guests */\n",
    "query13='''\n",
    "SELECT facid,  strftime('%m', starttime) as month,count(*) as C FROM `Bookings` where memid!=0 group by 1,2\n",
    "'''\n",
    "\n",
    "cur.execute(query13)\n",
    "rows=cur.fetchall()\n",
    "rows"
   ]
  },
  {
   "cell_type": "code",
   "execution_count": null,
   "metadata": {},
   "outputs": [],
   "source": []
  }
 ],
 "metadata": {
  "interpreter": {
   "hash": "40d3a090f54c6569ab1632332b64b2c03c39dcf918b08424e98f38b5ae0af88f"
  },
  "kernelspec": {
   "display_name": "Python 3.8.8 64-bit ('base': conda)",
   "language": "python",
   "name": "python3"
  },
  "language_info": {
   "codemirror_mode": {
    "name": "ipython",
    "version": 3
   },
   "file_extension": ".py",
   "mimetype": "text/x-python",
   "name": "python",
   "nbconvert_exporter": "python",
   "pygments_lexer": "ipython3",
   "version": "3.8.8"
  },
  "orig_nbformat": 4
 },
 "nbformat": 4,
 "nbformat_minor": 2
}
